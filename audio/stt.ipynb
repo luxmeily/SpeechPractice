{
 "cells": [
  {
   "cell_type": "code",
   "execution_count": 2,
   "metadata": {},
   "outputs": [
    {
     "name": "stdout",
     "output_type": "stream",
     "text": [
      "Collecting SpeechRecognition\n",
      "  Downloading SpeechRecognition-3.9.0-py2.py3-none-any.whl (32.8 MB)\n",
      "\u001b[2K     \u001b[90m━━━━━━━━━━━━━━━━━━━━━━━━━━━━━━━━━━━━━━━━\u001b[0m \u001b[32m32.8/32.8 MB\u001b[0m \u001b[31m3.9 MB/s\u001b[0m eta \u001b[36m0:00:00\u001b[0m00:01\u001b[0m00:01\u001b[0m\n",
      "\u001b[?25hRequirement already satisfied: requests>=2.26.0 in /Library/Frameworks/Python.framework/Versions/3.7/lib/python3.7/site-packages (from SpeechRecognition) (2.28.2)\n",
      "Requirement already satisfied: charset-normalizer<4,>=2 in /Library/Frameworks/Python.framework/Versions/3.7/lib/python3.7/site-packages (from requests>=2.26.0->SpeechRecognition) (3.0.1)\n",
      "Requirement already satisfied: idna<4,>=2.5 in /Library/Frameworks/Python.framework/Versions/3.7/lib/python3.7/site-packages (from requests>=2.26.0->SpeechRecognition) (3.4)\n",
      "Requirement already satisfied: urllib3<1.27,>=1.21.1 in /Library/Frameworks/Python.framework/Versions/3.7/lib/python3.7/site-packages (from requests>=2.26.0->SpeechRecognition) (1.26.14)\n",
      "Requirement already satisfied: certifi>=2017.4.17 in /Library/Frameworks/Python.framework/Versions/3.7/lib/python3.7/site-packages (from requests>=2.26.0->SpeechRecognition) (2022.12.7)\n",
      "\u001b[33mDEPRECATION: deeplodocus 0.3.0 has a non-standard dependency specifier psutil>=5-4.8. pip 24.0 will enforce this behaviour change. A possible replacement is to upgrade to a newer version of deeplodocus or contact the author to suggest that they release a version with a conforming dependency specifiers. Discussion can be found at https://github.com/pypa/pip/issues/12063\u001b[0m\u001b[33m\n",
      "\u001b[0mInstalling collected packages: SpeechRecognition\n",
      "Successfully installed SpeechRecognition-3.9.0\n",
      "Note: you may need to restart the kernel to use updated packages.\n",
      "Requirement already satisfied: librosa in /Library/Frameworks/Python.framework/Versions/3.7/lib/python3.7/site-packages (0.10.1)\n",
      "Requirement already satisfied: audioread>=2.1.9 in /Library/Frameworks/Python.framework/Versions/3.7/lib/python3.7/site-packages (from librosa) (3.0.1)\n",
      "Requirement already satisfied: numpy!=1.22.0,!=1.22.1,!=1.22.2,>=1.20.3 in /Library/Frameworks/Python.framework/Versions/3.7/lib/python3.7/site-packages (from librosa) (1.21.6)\n",
      "Requirement already satisfied: scipy>=1.2.0 in /Library/Frameworks/Python.framework/Versions/3.7/lib/python3.7/site-packages (from librosa) (1.7.3)\n",
      "Requirement already satisfied: scikit-learn>=0.20.0 in /Library/Frameworks/Python.framework/Versions/3.7/lib/python3.7/site-packages (from librosa) (1.0.2)\n",
      "Requirement already satisfied: joblib>=0.14 in /Library/Frameworks/Python.framework/Versions/3.7/lib/python3.7/site-packages (from librosa) (1.3.2)\n",
      "Requirement already satisfied: decorator>=4.3.0 in /Library/Frameworks/Python.framework/Versions/3.7/lib/python3.7/site-packages (from librosa) (5.1.1)\n",
      "Requirement already satisfied: numba>=0.51.0 in /Library/Frameworks/Python.framework/Versions/3.7/lib/python3.7/site-packages (from librosa) (0.56.4)\n",
      "Requirement already satisfied: soundfile>=0.12.1 in /Library/Frameworks/Python.framework/Versions/3.7/lib/python3.7/site-packages (from librosa) (0.12.1)\n",
      "Requirement already satisfied: pooch>=1.0 in /Library/Frameworks/Python.framework/Versions/3.7/lib/python3.7/site-packages (from librosa) (1.8.0)\n",
      "Requirement already satisfied: soxr>=0.3.2 in /Library/Frameworks/Python.framework/Versions/3.7/lib/python3.7/site-packages (from librosa) (0.3.7)\n",
      "Requirement already satisfied: typing-extensions>=4.1.1 in /Library/Frameworks/Python.framework/Versions/3.7/lib/python3.7/site-packages (from librosa) (4.7.1)\n",
      "Requirement already satisfied: lazy-loader>=0.1 in /Library/Frameworks/Python.framework/Versions/3.7/lib/python3.7/site-packages (from librosa) (0.3)\n",
      "Requirement already satisfied: msgpack>=1.0 in /Library/Frameworks/Python.framework/Versions/3.7/lib/python3.7/site-packages (from librosa) (1.0.5)\n",
      "Requirement already satisfied: llvmlite<0.40,>=0.39.0dev0 in /Library/Frameworks/Python.framework/Versions/3.7/lib/python3.7/site-packages (from numba>=0.51.0->librosa) (0.39.1)\n",
      "Requirement already satisfied: setuptools in /Library/Frameworks/Python.framework/Versions/3.7/lib/python3.7/site-packages (from numba>=0.51.0->librosa) (47.1.0)\n",
      "Requirement already satisfied: importlib-metadata in /Library/Frameworks/Python.framework/Versions/3.7/lib/python3.7/site-packages (from numba>=0.51.0->librosa) (6.0.0)\n",
      "Requirement already satisfied: platformdirs>=2.5.0 in /Library/Frameworks/Python.framework/Versions/3.7/lib/python3.7/site-packages (from pooch>=1.0->librosa) (4.0.0)\n",
      "Requirement already satisfied: packaging>=20.0 in /Library/Frameworks/Python.framework/Versions/3.7/lib/python3.7/site-packages (from pooch>=1.0->librosa) (21.3)\n",
      "Requirement already satisfied: requests>=2.19.0 in /Library/Frameworks/Python.framework/Versions/3.7/lib/python3.7/site-packages (from pooch>=1.0->librosa) (2.28.2)\n",
      "Requirement already satisfied: threadpoolctl>=2.0.0 in /Library/Frameworks/Python.framework/Versions/3.7/lib/python3.7/site-packages (from scikit-learn>=0.20.0->librosa) (3.1.0)\n",
      "Requirement already satisfied: cffi>=1.0 in /Users/shimsumin/Library/Python/3.7/lib/python/site-packages (from soundfile>=0.12.1->librosa) (1.15.1)\n",
      "Requirement already satisfied: pycparser in /Users/shimsumin/Library/Python/3.7/lib/python/site-packages (from cffi>=1.0->soundfile>=0.12.1->librosa) (2.21)\n",
      "Requirement already satisfied: pyparsing!=3.0.5,>=2.0.2 in /Library/Frameworks/Python.framework/Versions/3.7/lib/python3.7/site-packages (from packaging>=20.0->pooch>=1.0->librosa) (3.0.9)\n",
      "Requirement already satisfied: charset-normalizer<4,>=2 in /Library/Frameworks/Python.framework/Versions/3.7/lib/python3.7/site-packages (from requests>=2.19.0->pooch>=1.0->librosa) (3.0.1)\n",
      "Requirement already satisfied: idna<4,>=2.5 in /Library/Frameworks/Python.framework/Versions/3.7/lib/python3.7/site-packages (from requests>=2.19.0->pooch>=1.0->librosa) (3.4)\n",
      "Requirement already satisfied: urllib3<1.27,>=1.21.1 in /Library/Frameworks/Python.framework/Versions/3.7/lib/python3.7/site-packages (from requests>=2.19.0->pooch>=1.0->librosa) (1.26.14)\n",
      "Requirement already satisfied: certifi>=2017.4.17 in /Library/Frameworks/Python.framework/Versions/3.7/lib/python3.7/site-packages (from requests>=2.19.0->pooch>=1.0->librosa) (2022.12.7)\n",
      "Requirement already satisfied: zipp>=0.5 in /Library/Frameworks/Python.framework/Versions/3.7/lib/python3.7/site-packages (from importlib-metadata->numba>=0.51.0->librosa) (3.11.0)\n",
      "\u001b[33mDEPRECATION: deeplodocus 0.3.0 has a non-standard dependency specifier psutil>=5-4.8. pip 24.0 will enforce this behaviour change. A possible replacement is to upgrade to a newer version of deeplodocus or contact the author to suggest that they release a version with a conforming dependency specifiers. Discussion can be found at https://github.com/pypa/pip/issues/12063\u001b[0m\u001b[33m\n",
      "\u001b[0mNote: you may need to restart the kernel to use updated packages.\n",
      "Requirement already satisfied: pydub in /Library/Frameworks/Python.framework/Versions/3.7/lib/python3.7/site-packages (0.25.1)\n",
      "\u001b[33mDEPRECATION: deeplodocus 0.3.0 has a non-standard dependency specifier psutil>=5-4.8. pip 24.0 will enforce this behaviour change. A possible replacement is to upgrade to a newer version of deeplodocus or contact the author to suggest that they release a version with a conforming dependency specifiers. Discussion can be found at https://github.com/pypa/pip/issues/12063\u001b[0m\u001b[33m\n",
      "\u001b[0mNote: you may need to restart the kernel to use updated packages.\n"
     ]
    }
   ],
   "source": [
    "%pip install SpeechRecognition\n",
    "%pip install librosa\n",
    "%pip install pydub"
   ]
  },
  {
   "cell_type": "code",
   "execution_count": 2,
   "metadata": {},
   "outputs": [],
   "source": [
    "import matplotlib.pyplot as plt\n",
    "import speech_recognition as sr\n",
    "import librosa"
   ]
  },
  {
   "cell_type": "code",
   "execution_count": 10,
   "metadata": {},
   "outputs": [
    {
     "name": "stdout",
     "output_type": "stream",
     "text": [
      "result2:\n",
      "{   'alternative': [   {   'confidence': 0.87048703,\n",
      "                           'transcript': '안녕하세요 저는 열정 피해를 담당하고 있는 심수민 무슨 말을 해야 '\n",
      "                                         '할지 모르겠지만 일단 아무 말이나 해 보겠습니다 지금 주변에 '\n",
      "                                         '상당히 시끄러운데요 녹음이 잘 될는지 모르겠네요 아무튼 만나서 '\n",
      "                                         '반가웠습니다 안녕히 계세요'},\n",
      "                       {   'transcript': '안녕하세요 저는 열정 피해를 담당하고 있는 신수민 무슨 말을 해야 '\n",
      "                                         '할지 모르겠지만 일단 아무 말이나 해 보겠습니다 지금 주변에 '\n",
      "                                         '상당히 시끄러운데요 녹음이 잘 될는지 모르겠네요 아무튼 만나서 '\n",
      "                                         '반가웠습니다 안녕히 계세요'},\n",
      "                       {   'transcript': '안녕하세요 저는 열정 피해를 담당하고 있는 심수민 어 무슨 말을 '\n",
      "                                         '해야 할지 모르겠지만 일단 아무 말이나 해 보겠습니다 지금 주변에 '\n",
      "                                         '상당히 시끄러운데요 녹음이 잘 될는지 모르겠네요 아무튼 만나서 '\n",
      "                                         '반가웠습니다 안녕히 계세요'},\n",
      "                       {   'transcript': '안녕하세요 저는 열정 피해를 담당하고 있는 심수민 무슨 말을 해야 '\n",
      "                                         '할지 모르겠지만 일단 아무 말이나 해 보겠습니다 지금 주변에 '\n",
      "                                         '상당히 시끄러운데요 녹음이 잘 될는지 모르겠네요 암튼 만나서 '\n",
      "                                         '반가웠습니다 안녕히 계세요'}],\n",
      "    'final': True}\n",
      "안녕하세요 저는 열정 피해를 담당하고 있는 심수민 무슨 말을 해야 할지 모르겠지만 일단 아무 말이나 해 보겠습니다 지금 주변에 상당히 시끄러운데요 녹음이 잘 될는지 모르겠네요 아무튼 만나서 반가웠습니다 안녕히 계세요\n"
     ]
    }
   ],
   "source": [
    "r = sr.Recognizer()\n",
    "korean_audio = sr.AudioFile('./sumin_audio.wav')\n",
    "\n",
    "with korean_audio as source:\n",
    "    audio = r.record(source)\n",
    "\n",
    "text = r.recognize_google(audio_data=audio, language='ko-KR',)\n",
    "print(text)"
   ]
  },
  {
   "cell_type": "code",
   "execution_count": 13,
   "metadata": {},
   "outputs": [
    {
     "name": "stdout",
     "output_type": "stream",
     "text": [
      "[(0.0, 6.699), (6.891, 10.749), (12.947, 18.527), (21.178, 24.427)]\n"
     ]
    }
   ],
   "source": [
    "from pydub import AudioSegment, silence\n",
    "\n",
    "myaudio = AudioSegment.from_wav(\"./sumin_audio.wav\")\n",
    "\n",
    "silence = silence.detect_silence(myaudio, min_silence_len=2000, silence_thresh=-16)\n",
    "\n",
    "silence = [((start/1000),(stop/1000)) for start,stop in silence] #convert to sec\n",
    "\n",
    "print(silence)"
   ]
  },
  {
   "cell_type": "code",
   "execution_count": null,
   "metadata": {},
   "outputs": [],
   "source": []
  },
  {
   "cell_type": "markdown",
   "metadata": {},
   "source": []
  }
 ],
 "metadata": {
  "kernelspec": {
   "display_name": "Python 3.7.9 64-bit",
   "language": "python",
   "name": "python3"
  },
  "language_info": {
   "codemirror_mode": {
    "name": "ipython",
    "version": 3
   },
   "file_extension": ".py",
   "mimetype": "text/x-python",
   "name": "python",
   "nbconvert_exporter": "python",
   "pygments_lexer": "ipython3",
   "version": "3.7.9"
  },
  "orig_nbformat": 4,
  "vscode": {
   "interpreter": {
    "hash": "aee8b7b246df8f9039afb4144a1f6fd8d2ca17a180786b69acc140d282b71a49"
   }
  }
 },
 "nbformat": 4,
 "nbformat_minor": 2
}
