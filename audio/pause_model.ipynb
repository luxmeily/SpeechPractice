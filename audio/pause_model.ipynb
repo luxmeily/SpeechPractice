{
  "cells": [
    {
      "cell_type": "code",
      "execution_count": null,
      "metadata": {
        "id": "QTAU2rd5gYI1"
      },
      "outputs": [],
      "source": []
    },
    {
      "cell_type": "code",
      "execution_count": 2,
      "metadata": {
        "id": "60RAXxPjgaSd"
      },
      "outputs": [],
      "source": [
        "from pydub import AudioSegment\n",
        "from pydub.silence import detect_nonsilent\n",
        "\n",
        "def create_json(audio_file):\n",
        "  intervals_jsons = []\n",
        "\n",
        "  min_silence_length = 70\n",
        "  intervals = detect_nonsilent(audio_file,\n",
        "                               min_silence_len=min_silence_length,\n",
        "                               silence_thresh=-32.64)\n",
        "\n",
        "  if intervals[0][0] != 0:\n",
        "    intervals_jsons.append({'start':0,'end':intervals[0][0]/1000,'tag':'침묵'})\n",
        "\n",
        "  non_silence_start = intervals[0][0]\n",
        "  before_silence_start = intervals[0][1]\n",
        "\n",
        "  for interval in intervals:\n",
        "    interval_audio = audio_file[interval[0]:interval[1]]\n",
        "\n",
        "    if (interval[0] - before_silence_start) >= 2000:\n",
        "      intervals_jsons.append({'start':non_silence_start/1000,'end':(before_silence_start+200)/1000,'tag':'비침묵'})\n",
        "      non_silence_start = interval[0]-200\n",
        "      intervals_jsons.append({'start':before_silence_start/1000,'end':interval[0]/1000,'tag':'침묵'})\n",
        "    before_silence_start = interval[1]\n",
        "\n",
        "  if non_silence_start != len(audio_file):\n",
        "    intervals_jsons.append({'start':non_silence_start/1000,'end':len(audio_file)/1000,'tag':'비침묵'})\n",
        "\n",
        "  return intervals_jsons\n"
      ]
    },
    {
      "cell_type": "code",
      "execution_count": 3,
      "metadata": {
        "id": "_HYHkD2Ij2TA"
      },
      "outputs": [],
      "source": [
        "def match_target_amplitude(sound, target_dBFS) :\n",
        "    change_in_dBFS = target_dBFS - sound.dBFS\n",
        "    return sound.apply_gain(change_in_dBFS)"
      ]
    },
    {
      "cell_type": "code",
      "execution_count": 4,
      "metadata": {
        "colab": {
          "base_uri": "https://localhost:8080/"
        },
        "id": "SK_A2WNug8T9",
        "outputId": "cf69638c-412f-4c75-e3c7-7c8805cdb2da"
      },
      "outputs": [
        {
          "name": "stdout",
          "output_type": "stream",
          "text": [
            "[{'start': 0, 'end': 1.752, 'tag': '침묵'}, {'start': 1.752, 'end': 24.427, 'tag': '비침묵'}]\n"
          ]
        }
      ],
      "source": [
        "sound = AudioSegment.from_file(\"./sumin_audio.wav\", \"wav\")\n",
        "normalized_sound = match_target_amplitude(sound, -20.0)\n",
        "json = create_json(normalized_sound)\n",
        "print(json)"
      ]
    },
    {
      "cell_type": "code",
      "execution_count": null,
      "metadata": {
        "id": "5MxiVahkknmu"
      },
      "outputs": [],
      "source": []
    }
  ],
  "metadata": {
    "colab": {
      "provenance": []
    },
    "kernelspec": {
      "display_name": "Python 3.7.9 64-bit",
      "language": "python",
      "name": "python3"
    },
    "language_info": {
      "codemirror_mode": {
        "name": "ipython",
        "version": 3
      },
      "file_extension": ".py",
      "mimetype": "text/x-python",
      "name": "python",
      "nbconvert_exporter": "python",
      "pygments_lexer": "ipython3",
      "version": "3.7.9"
    },
    "vscode": {
      "interpreter": {
        "hash": "aee8b7b246df8f9039afb4144a1f6fd8d2ca17a180786b69acc140d282b71a49"
      }
    }
  },
  "nbformat": 4,
  "nbformat_minor": 0
}
